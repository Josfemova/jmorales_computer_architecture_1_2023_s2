{
  "cells": [
    {
      "cell_type": "code",
      "execution_count": 21,
      "metadata": {
        "colab": {
          "base_uri": "https://localhost:8080/"
        },
        "id": "WSrdAZT3wY_k",
        "outputId": "0072617c-7760-4882-afb2-1b56c8dceb10"
      },
      "outputs": [
        {
          "name": "stdout",
          "output_type": "stream",
          "text": [
            "\u001b[01m\u001b[Kalgortimo.c:\u001b[m\u001b[K In function ‘\u001b[01m\u001b[Kescribir_salida\u001b[m\u001b[K’:\n",
            "\u001b[01m\u001b[Kalgortimo.c:223:20:\u001b[m\u001b[K \u001b[01;35m\u001b[Kwarning: \u001b[m\u001b[K‘\u001b[01m\u001b[Kreturn\u001b[m\u001b[K’ with a value, in function returning void\n",
            "  223 |             return \u001b[01;35m\u001b[K1\u001b[m\u001b[K;\n",
            "      |                    \u001b[01;35m\u001b[K^\u001b[m\u001b[K\n",
            "\u001b[01m\u001b[Kalgortimo.c:217:6:\u001b[m\u001b[K \u001b[01;36m\u001b[Knote: \u001b[m\u001b[Kdeclared here\n",
            "  217 | void \u001b[01;36m\u001b[Kescribir_salida\u001b[m\u001b[K(double salida, int flag){\n",
            "      |      \u001b[01;36m\u001b[K^~~~~~~~~~~~~~~\u001b[m\u001b[K\n",
            "\u001b[01m\u001b[Kalgortimo.c:231:20:\u001b[m\u001b[K \u001b[01;35m\u001b[Kwarning: \u001b[m\u001b[K‘\u001b[01m\u001b[Kreturn\u001b[m\u001b[K’ with a value, in function returning void\n",
            "  231 |             return \u001b[01;35m\u001b[K1\u001b[m\u001b[K;\n",
            "      |                    \u001b[01;35m\u001b[K^\u001b[m\u001b[K\n",
            "\u001b[01m\u001b[Kalgortimo.c:217:6:\u001b[m\u001b[K \u001b[01;36m\u001b[Knote: \u001b[m\u001b[Kdeclared here\n",
            "  217 | void \u001b[01;36m\u001b[Kescribir_salida\u001b[m\u001b[K(double salida, int flag){\n",
            "      |      \u001b[01;36m\u001b[K^~~~~~~~~~~~~~~\u001b[m\u001b[K\n",
            "\u001b[01m\u001b[Kalgortimo.c:\u001b[m\u001b[K In function ‘\u001b[01m\u001b[Kinsercion_reverberacion\u001b[m\u001b[K’:\n",
            "\u001b[01m\u001b[Kalgortimo.c:244:16:\u001b[m\u001b[K \u001b[01;35m\u001b[Kwarning: \u001b[m\u001b[K‘\u001b[01m\u001b[Kreturn\u001b[m\u001b[K’ with a value, in function returning void\n",
            "  244 |         return \u001b[01;35m\u001b[K1\u001b[m\u001b[K;\n",
            "      |                \u001b[01;35m\u001b[K^\u001b[m\u001b[K\n",
            "\u001b[01m\u001b[Kalgortimo.c:240:6:\u001b[m\u001b[K \u001b[01;36m\u001b[Knote: \u001b[m\u001b[Kdeclared here\n",
            "  240 | void \u001b[01;36m\u001b[Kinsercion_reverberacion\u001b[m\u001b[K(){\n",
            "      |      \u001b[01;36m\u001b[K^~~~~~~~~~~~~~~~~~~~~~~\u001b[m\u001b[K\n",
            "\u001b[01m\u001b[Kalgortimo.c:254:29:\u001b[m\u001b[K \u001b[01;35m\u001b[Kwarning: \u001b[m\u001b[Kimplicit declaration of function ‘\u001b[01m\u001b[Kstrtol\u001b[m\u001b[K’ [\u001b[01;35m\u001b[K\u001b]8;;https://gcc.gnu.org/onlinedocs/gcc/Warning-Options.html#index-Wimplicit-function-declaration\u0007-Wimplicit-function-declaration\u001b]8;;\u0007\u001b[m\u001b[K]\n",
            "  254 |             int32_t q1_14 = \u001b[01;35m\u001b[Kstrtol\u001b[m\u001b[K(line, NULL, 2);\n",
            "      |                             \u001b[01;35m\u001b[K^~~~~~\u001b[m\u001b[K\n",
            "\u001b[01m\u001b[Kalgortimo.c:\u001b[m\u001b[K In function ‘\u001b[01m\u001b[Kreduccion_reverberacion\u001b[m\u001b[K’:\n",
            "\u001b[01m\u001b[Kalgortimo.c:279:16:\u001b[m\u001b[K \u001b[01;35m\u001b[Kwarning: \u001b[m\u001b[K‘\u001b[01m\u001b[Kreturn\u001b[m\u001b[K’ with a value, in function returning void\n",
            "  279 |         return \u001b[01;35m\u001b[K1\u001b[m\u001b[K;\n",
            "      |                \u001b[01;35m\u001b[K^\u001b[m\u001b[K\n",
            "\u001b[01m\u001b[Kalgortimo.c:275:6:\u001b[m\u001b[K \u001b[01;36m\u001b[Knote: \u001b[m\u001b[Kdeclared here\n",
            "  275 | void \u001b[01;36m\u001b[Kreduccion_reverberacion\u001b[m\u001b[K(){\n",
            "      |      \u001b[01;36m\u001b[K^~~~~~~~~~~~~~~~~~~~~~~\u001b[m\u001b[K\n"
          ]
        }
      ],
      "source": [
        "!gcc -o ejecutable algortimo.c"
      ]
    },
    {
      "cell_type": "code",
      "execution_count": 23,
      "metadata": {
        "id": "D238vy8WOi5r"
      },
      "outputs": [],
      "source": [
        "import wave, subprocess\n",
        "\n",
        "def audio_to_q114(input_file, Qformat_file):\n",
        "  # Abre el archivo WAV y toma sus datos de audio\n",
        "    with wave.open(input_file, 'rb') as wav_in:\n",
        "        paramsIn = wav_in.getparams()\n",
        "        header_size = paramsIn.nframes * paramsIn.sampwidth\n",
        "        audio_data = wav_in.readframes(paramsIn.nframes)\n",
        "  # Convierte esos datos a entero\n",
        "    binary_data = bytearray(audio_data)\n",
        "    normalized_float_data = []\n",
        "    int_data = [int(byte) for byte in binary_data]\n",
        "  # Normaliza los datos entre -1 y 1\n",
        "    for value in int_data:\n",
        "        normalized_value = (value / 255.0) * 2 - 1\n",
        "        normalized_float_data.append(normalized_value)\n",
        "  # Escribe el formato Q1.14\n",
        "    qformatData = []\n",
        "    for val in normalized_float_data:\n",
        "        if val < 0:\n",
        "            binary = \"1\"  # Signo negativo\n",
        "        else:\n",
        "            binary = \"0\"  # Signo positivo\n",
        "\n",
        "        integer = int(abs(val))\n",
        "        binary = binary + str(integer) # Parte entera\n",
        "  # Sub-algoritmo para convertir el float a binario\n",
        "        decimal = abs(val) - int(abs(val))\n",
        "        sum = 0\n",
        "        for i in range(14):\n",
        "            if sum + 2**(-(i + 1)) < decimal:\n",
        "                sum += 2**(-(i + 1))\n",
        "                binary = binary + \"1\"\n",
        "            else:\n",
        "                binary = binary + \"0\"\n",
        "        while len(binary) < 15:\n",
        "            binary += \"0\"\n",
        "        qformatData.append(binary) # Parte decimal\n",
        "  # Escritura de los datos Q1.14 a un archivo TXT\n",
        "    with open(Qformat_file, 'w') as txt_out:\n",
        "        for value in qformatData:\n",
        "            txt_out.write(value + \"\\n\")\n",
        "    return paramsIn\n",
        "\n",
        "def q114_to_audio(Qformat_file, reconstructed_file, paramsIn):\n",
        "  # Lee los datos del TXT generado antes\n",
        "    with open(Qformat_file, 'r') as txt_in:\n",
        "        qformat_data = [line.strip() for line in txt_in]\n",
        "  # Convierte los datos de Q1.14 a float\n",
        "    float_data = []\n",
        "    for binary in qformat_data:\n",
        "        sign_bit = int(binary[0])\n",
        "        integer_part = int(binary[1], 2)\n",
        "        fractional_part = 0\n",
        "        for i in range(14):\n",
        "            fractional_part += int(binary[i + 2]) * (2 ** -(i + 1))\n",
        "        value = (-1 if sign_bit == 1 else 1) * (integer_part + fractional_part)\n",
        "        float_data.append(value)\n",
        "  # Convierte los float a binario\n",
        "    int_data = [int((value + 1) * 127.5) for value in float_data]\n",
        "    binary_data = bytearray(int_data)\n",
        "  # Escribe los datos en binario al nuevo archivo WAV\n",
        "    with wave.open(reconstructed_file, 'wb') as wav_out:\n",
        "        wav_out.setparams(paramsIn)\n",
        "        wav_out.writeframes(binary_data)\n",
        "\n",
        "def floatToBinary_and_audioReconstruction(input_file, reconstructed_file, paramsInput):\n",
        "    with open(input_file, 'r') as txt_in:\n",
        "        float_data = [float(line.strip()) for line in txt_in]\n",
        "\n",
        "    int_data = [(int((value + 1) * 127.5)) for value in float_data]\n",
        "    binary_data = bytearray(int_data)\n",
        "\n",
        "    with wave.open(reconstructed_file, 'wb') as wav_out:\n",
        "        wav_out.setparams(paramsInput)\n",
        "        wav_out.writeframes(binary_data)\n",
        "\n",
        "def main():\n",
        "  paramsInput = audio_to_q114(\"audio_mono16k.wav\", \"input.txt\")\n",
        "  subprocess.run([\"./ejecutable\"])\n",
        "  floatToBinary_and_audioReconstruction(\"insercion.txt\", \"reverbed_audio.wav\", paramsInput)\n",
        "  floatToBinary_and_audioReconstruction(\"reduccion.txt\", \"desreverbed_audio.wav\", paramsInput)\n",
        "\n",
        "main()"
      ]
    }
  ],
  "metadata": {
    "colab": {
      "provenance": []
    },
    "kernelspec": {
      "display_name": "Python 3",
      "name": "python3"
    },
    "language_info": {
      "name": "python"
    }
  },
  "nbformat": 4,
  "nbformat_minor": 0
}
