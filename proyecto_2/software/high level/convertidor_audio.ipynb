{
  "nbformat": 4,
  "nbformat_minor": 0,
  "metadata": {
    "colab": {
      "provenance": []
    },
    "kernelspec": {
      "name": "python3",
      "display_name": "Python 3"
    },
    "language_info": {
      "name": "python"
    }
  },
  "cells": [
    {
      "cell_type": "markdown",
      "source": [
        "# **Conversión de un audio MP3 a binario**\n",
        "\n",
        "Se lee cada byte del audio y se convierte en su equivalente ASCII (integer). Posteriormente, se toman esos integers y se convierten a binario."
      ],
      "metadata": {
        "id": "Oz2swUCytmdF"
      }
    },
    {
      "cell_type": "code",
      "source": [
        "mp3_ruta = 'audio.mp3'\n",
        "txt_ruta = 'audio_binario.txt'\n",
        "\n",
        "with open(mp3_ruta, 'rb') as mp3_file:\n",
        "    with open(txt_ruta, 'w') as txt_file:\n",
        "        byte = mp3_file.read(1) # lee cada byte\n",
        "\n",
        "        while byte:\n",
        "            binary_num = format(ord(byte), '08b') # ord() convierte a ASCII y format() convierte a binario\n",
        "            txt_file.write(binary_num + '\\n') # escribe en el txt y cambia de linea\n",
        "            byte = mp3_file.read(1) # actualiza el byte a leer\n",
        "\n",
        "print(f\"Audio MP3 '{mp3_ruta}' escrito en '{txt_ruta}'\")"
      ],
      "metadata": {
        "colab": {
          "base_uri": "https://localhost:8080/"
        },
        "id": "GFyT5uRRovVL",
        "outputId": "b4ae5cf4-f12d-4e13-88c7-b8a031c66fab"
      },
      "execution_count": 6,
      "outputs": [
        {
          "output_type": "stream",
          "name": "stdout",
          "text": [
            "Audio MP3 'audio.mp3' escrito en 'audio_binario.txt'\n"
          ]
        }
      ]
    }
  ]
}